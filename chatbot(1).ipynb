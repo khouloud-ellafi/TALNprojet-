{
  "nbformat": 4,
  "nbformat_minor": 0,
  "metadata": {
    "colab": {
      "name": "Untitled8.ipynb",
      "provenance": [],
      "collapsed_sections": []
    },
    "kernelspec": {
      "name": "python3",
      "display_name": "Python 3"
    }
  },
  "cells": [
    {
      "cell_type": "code",
      "metadata": {
        "id": "EHHd79HLHfVS"
      },
      "source": [
        "#import the library  \r\n",
        "from nltk.chat.util import Chat, reflections "
      ],
      "execution_count": null,
      "outputs": []
    },
    {
      "cell_type": "code",
      "metadata": {
        "id": "bz75x0CaXfgG"
      },
      "source": [
        "pairs = [\r\n",
        "    [\r\n",
        "        r\"My name is (.*)\",\r\n",
        "     ['hello  %1 can help you'],\r\n",
        "\r\n",
        "    ],\r\n",
        "\r\n",
        "    [\r\n",
        "        r\"please book me a table (.*)\",\r\n",
        "     ['i am going to book a table for you %1'],\r\n",
        "    ],\r\n",
        "\r\n",
        "    [\r\n",
        "        r\"please order food\",\r\n",
        "     [' ok , i will bring food for you at your table '],\r\n",
        "   \r\n",
        "    ],\r\n",
        "\r\n",
        "    [\r\n",
        "           r\"i think (.*)is good\",\r\n",
        "        ['i wil bring for you %1'],\r\n",
        "\r\n",
        "    ],\r\n",
        "\r\n",
        "    [  \r\n",
        "        r\"thanks you\",\r\n",
        "       ['you are welcome'],\r\n",
        "    \r\n",
        "    ],\r\n",
        "  \r\n",
        "     [\r\n",
        "        r'(.*)', # default response if no patterns from above is found\r\n",
        "        [\"Sorry I don't know what `%1` is?\"],\r\n",
        "     ],\r\n",
        "]"
      ],
      "execution_count": null,
      "outputs": []
    },
    {
      "cell_type": "code",
      "metadata": {
        "colab": {
          "base_uri": "https://localhost:8080/"
        },
        "id": "lbDFrxKNXf6X",
        "outputId": "7b78af99-3241-4dfb-fe27-28fc63bc2935"
      },
      "source": [
        "\r\n",
        "def hugot_bot():\r\n",
        "    print(\"Hi what's your name?\")\r\n",
        "    chat = Chat(pairs, reflections)\r\n",
        "    chat.converse()\r\n",
        "\r\n",
        "if __name__ == \"__main__\":\r\n",
        "    hugot_bot()\r\n",
        "\r\n",
        "\r\n",
        "    #question:\r\n",
        "    #please book me a table next week\r\n",
        "    #please order food\r\n",
        "    #i think pizza is good\r\n",
        "    #yummy \r\n",
        "    #thanks you "
      ],
      "execution_count": null,
      "outputs": [
        {
          "output_type": "stream",
          "text": [
            "Hi what's your name?\n",
            ">my name is khouloud \n",
            "hello  khouloud  can help you\n",
            ">please book me a table next week\n",
            "i am going to book a table for you next week\n",
            ">please order food\n",
            " ok , i will bring food for you at your table \n",
            ">i think pizza is good\n",
            "i wil bring for you pizza \n",
            ">yummy\n",
            "Sorry I don't know what `yummy` is?\n",
            ">thanks you\n",
            "you are welcome\n"
          ],
          "name": "stdout"
        }
      ]
    }
  ]
}